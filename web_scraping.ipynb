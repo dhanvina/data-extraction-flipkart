{
  "nbformat": 4,
  "nbformat_minor": 0,
  "metadata": {
    "colab": {
      "name": "Untitled0.ipynb",
      "provenance": [],
      "mount_file_id": "1ScO29eN7zMPFBcu5ZmmQMQyy0kyewGTe",
      "authorship_tag": "ABX9TyOsnPAvq0RBs258X9lY4Ym6",
      "include_colab_link": true
    },
    "kernelspec": {
      "name": "python3",
      "display_name": "Python 3"
    },
    "language_info": {
      "name": "python"
    }
  },
  "cells": [
    {
      "cell_type": "markdown",
      "metadata": {
        "id": "view-in-github",
        "colab_type": "text"
      },
      "source": [
        "<a href=\"https://colab.research.google.com/github/dhanvina/web_scraping/blob/main/web_scraping.ipynb\" target=\"_parent\"><img src=\"https://colab.research.google.com/assets/colab-badge.svg\" alt=\"Open In Colab\"/></a>"
      ]
    },
    {
      "cell_type": "code",
      "metadata": {
        "id": "9Z6it4I4Ay8n"
      },
      "source": [
        "import bs4\n",
        "import urllib.request as url"
      ],
      "execution_count": null,
      "outputs": []
    },
    {
      "cell_type": "code",
      "metadata": {
        "id": "nN4MXSuqBL5B"
      },
      "source": [
        "res = url.urlopen('https://www.flipkart.com/search?q=mobiles&as=on&as-show=on&otracker=AS_Query_TrendingAutoSuggest_1_0_na_na_na&otracker1=AS_Query_TrendingAutoSuggest_1_0_na_na_na&as-pos=1&as-type=TRENDING&suggestionId=mobiles&requestId=d8242397-ee54-4a3a-9bd5-f2c700e4681d')"
      ],
      "execution_count": null,
      "outputs": []
    },
    {
      "cell_type": "code",
      "metadata": {
        "id": "UatHCdpnBzl2"
      },
      "source": [
        "page = bs4.BeautifulSoup(res)"
      ],
      "execution_count": null,
      "outputs": []
    },
    {
      "cell_type": "code",
      "metadata": {
        "colab": {
          "base_uri": "https://localhost:8080/",
          "height": 35
        },
        "id": "szIEAxaACNFd",
        "outputId": "56fb97ce-f073-49e4-dc46-08bc099cf422"
      },
      "source": [
        "title = page.find('div',class_ = '_4rR01T')\n",
        "title.text"
      ],
      "execution_count": null,
      "outputs": [
        {
          "output_type": "execute_result",
          "data": {
            "application/vnd.google.colaboratory.intrinsic+json": {
              "type": "string"
            },
            "text/plain": [
              "'realme C21 (Cross Blue, 64 GB)'"
            ]
          },
          "metadata": {},
          "execution_count": 8
        }
      ]
    },
    {
      "cell_type": "code",
      "metadata": {
        "colab": {
          "base_uri": "https://localhost:8080/",
          "height": 35
        },
        "id": "8nSZi6bwC_kg",
        "outputId": "70c32e44-e6fc-42e7-9a0d-7a66464de699"
      },
      "source": [
        "price = page.find('div',class_='_30jeq3 _1_WHN1')\n",
        "price.text"
      ],
      "execution_count": null,
      "outputs": [
        {
          "output_type": "execute_result",
          "data": {
            "application/vnd.google.colaboratory.intrinsic+json": {
              "type": "string"
            },
            "text/plain": [
              "'₹9,999'"
            ]
          },
          "metadata": {},
          "execution_count": 9
        }
      ]
    },
    {
      "cell_type": "code",
      "metadata": {
        "id": "6Sq2j2OhDaAa"
      },
      "source": [
        "titleList = page.find_all('div',class_ = '_4rR01T')\n",
        "priceList = page.find_all('div',class_='_30jeq3 _1_WHN1')"
      ],
      "execution_count": null,
      "outputs": []
    },
    {
      "cell_type": "code",
      "metadata": {
        "colab": {
          "base_uri": "https://localhost:8080/"
        },
        "id": "lCGoAc4fD4Bn",
        "outputId": "822cb152-5896-44ba-ba13-b1712d4a56fa"
      },
      "source": [
        "len(titleList)\n",
        "len(priceList)"
      ],
      "execution_count": null,
      "outputs": [
        {
          "output_type": "execute_result",
          "data": {
            "text/plain": [
              "24"
            ]
          },
          "metadata": {},
          "execution_count": 12
        }
      ]
    },
    {
      "cell_type": "code",
      "metadata": {
        "colab": {
          "base_uri": "https://localhost:8080/"
        },
        "id": "ZEZJKLFcEC46",
        "outputId": "2d32953e-3b48-43a6-dc27-394ad889fb5f"
      },
      "source": [
        "for i in range(len(titleList)):\n",
        "  print(titleList[i].text)\n",
        "  print(priceList[i].text)\n",
        "  print('='*30)"
      ],
      "execution_count": null,
      "outputs": [
        {
          "output_type": "stream",
          "name": "stdout",
          "text": [
            "realme C21 (Cross Blue, 64 GB)\n",
            "₹9,999\n",
            "==============================\n",
            "realme C21 (Cross Blue, 32 GB)\n",
            "₹8,999\n",
            "==============================\n",
            "realme C21 (Cross Black, 64 GB)\n",
            "₹9,999\n",
            "==============================\n",
            "Coolpad Mega 5C (Gold, 16 GB)\n",
            "₹5,390\n",
            "==============================\n",
            "realme C21 (Cross Black, 32 GB)\n",
            "₹8,999\n",
            "==============================\n",
            "OPPO A53 (Moonlight Black, 64 GB)\n",
            "₹10,990\n",
            "==============================\n",
            "OPPO A53 (Mint Cream, 64 GB)\n",
            "₹10,990\n",
            "==============================\n",
            "OPPO A53 (Moonlight Black, 128 GB)\n",
            "₹12,990\n",
            "==============================\n",
            "POCO M3 (Power Black, 64 GB)\n",
            "₹11,999\n",
            "==============================\n",
            "POCO C3 (Arctic Blue, 64 GB)\n",
            "₹8,999\n",
            "==============================\n",
            "POCO M3 (Cool Blue, 64 GB)\n",
            "₹11,999\n",
            "==============================\n",
            "POCO C3 (Arctic Blue, 32 GB)\n",
            "₹7,999\n",
            "==============================\n",
            "OPPO A53 (Mint Cream, 128 GB)\n",
            "₹12,990\n",
            "==============================\n",
            "POCO M2 Reloaded (Mostly Blue, 64 GB)\n",
            "₹9,999\n",
            "==============================\n",
            "POCO M3 (Yellow, 64 GB)\n",
            "₹11,999\n",
            "==============================\n",
            "OPPO A12 (Deep Blue, 64 GB)\n",
            "₹9,490\n",
            "==============================\n",
            "OPPO A12 (Blue, 32 GB)\n",
            "₹8,490\n",
            "==============================\n",
            "OPPO A12 (Flowing Silver, 64 GB)\n",
            "₹9,490\n",
            "==============================\n",
            "OPPO A12 (Black, 32 GB)\n",
            "₹8,490\n",
            "==============================\n",
            "Infinix Hot 10 Play (7° Purple, 32 GB)\n",
            "₹8,299\n",
            "==============================\n",
            "Infinix Hot 10 Play (Morandi Green, 32 GB)\n",
            "₹8,299\n",
            "==============================\n",
            "POCO M3 (Power Black, 128 GB)\n",
            "₹12,999\n",
            "==============================\n",
            "REDMI 9i (Midnight Black, 64 GB)\n",
            "₹8,799\n",
            "==============================\n",
            "realme C20 (Cool Grey, 32 GB)\n",
            "₹7,499\n",
            "==============================\n"
          ]
        }
      ]
    },
    {
      "cell_type": "code",
      "metadata": {
        "id": "SEFfEmPaE7hd"
      },
      "source": [
        ""
      ],
      "execution_count": null,
      "outputs": []
    },
    {
      "cell_type": "code",
      "metadata": {
        "colab": {
          "base_uri": "https://localhost:8080/"
        },
        "id": "qV8wDzL3E73L",
        "outputId": "6c2d63cd-3b2f-471f-e3dc-3f61783df0f5"
      },
      "source": [
        "data = {'title' : [],'price' : []}\n",
        "\n",
        "for i in range(1,6):\n",
        "  res = url.urlopen('https://www.flipkart.com/search?q=mobiles&as=on&as-show=on&otracker=AS_Query_TrendingAutoSuggest_1_0_na_na_na&otracker1=AS_Query_TrendingAutoSuggest_1_0_na_na_na&as-pos=1&as-type=TRENDING&suggestionId=mobiles&requestId=d8242397-ee54-4a3a-9bd5-f2c700e4681d&page={}'.format(i))\n",
        "  page = bs4.BeautifulSoup(res)\n",
        "  titleList = page.find_all('div',class_ = '_4rR01T')\n",
        "  priceList = page.find_all('div',class_='_30jeq3 _1_WHN1')\n",
        "  \n",
        "  \n",
        "for i in range(len(titleList)):\n",
        "  data['title'].append(titleList[i].text)\n",
        "  data['price'].append(priceList[i].text)\n",
        "  print('='*30)\n",
        "import pandas as pd\n",
        "df = pd.DataFrame(data)\n"
      ],
      "execution_count": null,
      "outputs": [
        {
          "output_type": "stream",
          "name": "stdout",
          "text": [
            "==============================\n",
            "==============================\n",
            "==============================\n",
            "==============================\n",
            "==============================\n",
            "==============================\n",
            "==============================\n",
            "==============================\n",
            "==============================\n",
            "==============================\n",
            "==============================\n",
            "==============================\n",
            "==============================\n",
            "==============================\n",
            "==============================\n",
            "==============================\n",
            "==============================\n",
            "==============================\n",
            "==============================\n",
            "==============================\n",
            "==============================\n",
            "==============================\n",
            "==============================\n",
            "==============================\n"
          ]
        }
      ]
    },
    {
      "cell_type": "code",
      "metadata": {
        "colab": {
          "base_uri": "https://localhost:8080/"
        },
        "id": "TzDgT7GKH1kw",
        "outputId": "5c6d434a-4b1e-4610-a24e-2a97f795b881"
      },
      "source": [
        "df.shape\n"
      ],
      "execution_count": null,
      "outputs": [
        {
          "output_type": "execute_result",
          "data": {
            "text/plain": [
              "(24, 2)"
            ]
          },
          "metadata": {},
          "execution_count": 26
        }
      ]
    },
    {
      "cell_type": "code",
      "metadata": {
        "colab": {
          "base_uri": "https://localhost:8080/"
        },
        "id": "vy5eKCLrIUqw",
        "outputId": "0627ebd8-e495-46f1-d64f-a7b98fa594b1"
      },
      "source": [
        "df.head"
      ],
      "execution_count": null,
      "outputs": [
        {
          "output_type": "execute_result",
          "data": {
            "text/plain": [
              "<bound method NDFrame.head of                                       title    price\n",
              "0        REDMI 9 Prime (Matte Black, 64 GB)  ₹10,499\n",
              "1          POCO X3 Pro (Steel Blue, 128 GB)  ₹18,999\n",
              "2                                 LAVA Flip   ₹1,752\n",
              "3          REDMI 9 Power (Fiery Red, 64 GB)  ₹11,499\n",
              "4                                 LAVA Flip   ₹1,752\n",
              "5       Infinix Note 10 (7° Purple, 128 GB)  ₹12,499\n",
              "6       Infinix Note 10 (95° Black, 128 GB)  ₹12,499\n",
              "7   Infinix Note 10 (Emerald Green, 128 GB)  ₹12,499\n",
              "8       OPPO A53s 5G (Crystal Blue, 128 GB)  ₹17,990\n",
              "9          OPPO A53s 5G (Ink Black, 128 GB)  ₹17,990\n",
              "10         REDMI Note 9 (Aqua Green, 64 GB)  ₹11,999\n",
              "11  realme Narzo 30 (Racing Silver, 128 GB)  ₹15,499\n",
              "12          POCO M3 Pro 5G (Yellow, 128 GB)  ₹16,499\n",
              "13                        Nokia 105 SS 2021   ₹1,276\n",
              "14        REDMI Note 9 (Pebble Grey, 64 GB)  ₹11,999\n",
              "15   Infinix Smart 5 (Morandi Green, 32 GB)   ₹7,499\n",
              "16     Infinix Smart 5 (Aegean Blue, 32 GB)   ₹7,499\n",
              "17        Infinix Smart 5 (7 Purple, 32 GB)   ₹7,499\n",
              "18  Infinix Smart 5 (Obsidian Black, 32 GB)   ₹7,499\n",
              "19                                  LAVA A3   ₹1,131\n",
              "20       Infinix Hot 10S (95° Black, 64 GB)  ₹10,999\n",
              "21   Infinix Hot 10S (Morandi Green, 64 GB)  ₹10,999\n",
              "22  Infinix Hot 10S (Heart Of Ocean, 64 GB)  ₹10,999\n",
              "23          vivo Y21 (Midnight Blue, 64 GB)  ₹13,990>"
            ]
          },
          "metadata": {},
          "execution_count": 27
        }
      ]
    }
  ]
}